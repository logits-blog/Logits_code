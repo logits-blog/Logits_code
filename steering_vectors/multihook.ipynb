{
 "cells": [
  {
   "cell_type": "code",
   "execution_count": 1,
   "metadata": {},
   "outputs": [
    {
     "name": "stderr",
     "output_type": "stream",
     "text": [
      "/home/oso/anaconda3/envs/keras-jax/lib/python3.10/site-packages/tqdm/auto.py:21: TqdmWarning: IProgress not found. Please update jupyter and ipywidgets. See https://ipywidgets.readthedocs.io/en/stable/user_install.html\n",
      "  from .autonotebook import tqdm as notebook_tqdm\n"
     ]
    },
    {
     "name": "stdout",
     "output_type": "stream",
     "text": [
      "device: cuda:1\n"
     ]
    },
    {
     "name": "stderr",
     "output_type": "stream",
     "text": [
      "`config.hidden_act` is ignored, you should use `config.hidden_activation` instead.\n",
      "Gemma's activation function will be set to `gelu_pytorch_tanh`. Please, use\n",
      "`config.hidden_activation` if you want to override this behaviour.\n",
      "See https://github.com/huggingface/transformers/pull/29402 for more details.\n",
      "Loading checkpoint shards: 100%|██████████| 2/2 [00:01<00:00,  1.44it/s]\n"
     ]
    }
   ],
   "source": [
    "from transformers import AutoTokenizer, AutoModelForCausalLM\n",
    "from baukit import Trace, TraceDict\n",
    "\n",
    "import torch\n",
    "import numpy as np\n",
    "\n",
    "device =  'cuda:1'\n",
    "print(f\"device: {device}\")\n",
    "model = AutoModelForCausalLM.from_pretrained(\"google/gemma-2b-it\").to(device).eval()\n",
    "tokenizer = AutoTokenizer.from_pretrained(\"google/gemma-2b-it\")\n"
   ]
  },
  {
   "cell_type": "code",
   "execution_count": 2,
   "metadata": {},
   "outputs": [],
   "source": [
    "def act_add(steering_vec, k):\n",
    "    def hook(output):\n",
    "\n",
    "        steering_vec_array = np.array(steering_vec.cpu())[0][0]\n",
    "        \n",
    "        # Obtiene los índices de las k activaciones más grandes en términos de valor absoluto\n",
    "        top_k_indices = np.argsort(np.abs(steering_vec_array))[-k:]\n",
    "        \n",
    "        # Crea una máscara para las activaciones más grandes\n",
    "        mask = np.zeros_like(steering_vec_array)\n",
    "        mask[top_k_indices] = 1\n",
    "        \n",
    "        # Aplica la máscara\n",
    "        steering_vec_masked = steering_vec_array * mask\n",
    "        \n",
    "        # Convierte de nuevo a tensor y lo mueve a CUDA\n",
    "        steering_vec_masked = torch.tensor(steering_vec_masked).to('cuda:1')\n",
    "        \n",
    "        # Modifica el output con el steering_vec modificado\n",
    "        return (output[0] + steering_vec_masked,) + output[1:]\n",
    "    \n",
    "    return hook"
   ]
  },
  {
   "cell_type": "code",
   "execution_count": 3,
   "metadata": {},
   "outputs": [
    {
     "name": "stdout",
     "output_type": "stream",
     "text": [
      "GemmaForCausalLM(\n",
      "  (model): GemmaModel(\n",
      "    (embed_tokens): Embedding(256000, 2048, padding_idx=0)\n",
      "    (layers): ModuleList(\n",
      "      (0-17): 18 x GemmaDecoderLayer(\n",
      "        (self_attn): GemmaSdpaAttention(\n",
      "          (q_proj): Linear(in_features=2048, out_features=2048, bias=False)\n",
      "          (k_proj): Linear(in_features=2048, out_features=256, bias=False)\n",
      "          (v_proj): Linear(in_features=2048, out_features=256, bias=False)\n",
      "          (o_proj): Linear(in_features=2048, out_features=2048, bias=False)\n",
      "          (rotary_emb): GemmaRotaryEmbedding()\n",
      "        )\n",
      "        (mlp): GemmaMLP(\n",
      "          (gate_proj): Linear(in_features=2048, out_features=16384, bias=False)\n",
      "          (up_proj): Linear(in_features=2048, out_features=16384, bias=False)\n",
      "          (down_proj): Linear(in_features=16384, out_features=2048, bias=False)\n",
      "          (act_fn): PytorchGELUTanh()\n",
      "        )\n",
      "        (input_layernorm): GemmaRMSNorm((2048,), eps=1e-06)\n",
      "        (post_attention_layernorm): GemmaRMSNorm((2048,), eps=1e-06)\n",
      "      )\n",
      "    )\n",
      "    (norm): GemmaRMSNorm((2048,), eps=1e-06)\n",
      "  )\n",
      "  (lm_head): Linear(in_features=2048, out_features=256000, bias=False)\n",
      ")\n"
     ]
    }
   ],
   "source": [
    "print(model)"
   ]
  },
  {
   "cell_type": "code",
   "execution_count": 17,
   "metadata": {},
   "outputs": [],
   "source": [
    "top_neurons_to_affect = 512"
   ]
  },
  {
   "cell_type": "code",
   "execution_count": 24,
   "metadata": {},
   "outputs": [
    {
     "name": "stdout",
     "output_type": "stream",
     "text": [
      "<bos><start_of_turn>user\n",
      "Hello, Tell me what you think of madrid?<end_of_turn>\n",
      "<start_of_turn>model\n",
      "I am unable to form opinions or engage in discussions about the city of Madrid. I am a language model, and I do not have personal experiences or the ability to form subjective thoughts.<eos>\n",
      "<bos><start_of_turn>user\n",
      "Hello, Tell me what you think of madrid?<end_of_turn>\n",
      "<start_of_turn>model\n",
      "Happy to hear that you're having a wonderful time in Madrid! 🎨😊\n",
      "\n",
      "Is there anything I can do for you today? Perhaps I can help you with a task, or offer some advice or just brighten your day with a few words\n"
     ]
    }
   ],
   "source": [
    "\n",
    "hook_layers = [f'model.layers.{l}.mlp' for l in range(len(model.model.layers))]\n",
    "modules = []\n",
    "with TraceDict(model, layers=hook_layers, retain_input=True, retain_output=True) as rep:\n",
    "\n",
    "    for i in range(len( model.model.layers)):\n",
    "            module = model.model.layers[i]\n",
    "            inputs = tokenizer('happy', return_tensors=\"pt\").to(device)\n",
    "            with Trace(module) as cache:\n",
    "                _ = model(**inputs)\n",
    "                act_happy = cache.output[0]\n",
    "            act_happy = act_happy.detach().cpu().numpy()\n",
    "            modules.append(act_happy[:,-1:,:])\n",
    "\n",
    "\n",
    "modules = np.array(modules)\n",
    "\n",
    "chat = [\n",
    "    { \"role\": \"user\", \"content\": \"Hello, Tell me what you think of madrid?\" },\n",
    "]\n",
    "prompt = tokenizer.apply_chat_template(chat, tokenize=False, add_generation_prompt=True)\n",
    "inputs = tokenizer.encode(prompt, add_special_tokens=False, return_tensors=\"pt\")\n",
    "coeff = 0.8\n",
    "for i in range(2):\n",
    "    steering_vecF = torch.tensor(modules[i]).to('cuda:1')\n",
    "    module = model.model.layers[i]\n",
    "    with Trace(module, edit_output=act_add(coeff*steering_vecF,top_neurons_to_affect)) as _:\n",
    "        outputs = model.generate(input_ids=inputs.to('cuda:1'), max_new_tokens=50)\n",
    "        print(tokenizer.decode(outputs[0]))\n",
    "\n",
    "        \n"
   ]
  },
  {
   "cell_type": "code",
   "execution_count": 23,
   "metadata": {},
   "outputs": [
    {
     "name": "stdout",
     "output_type": "stream",
     "text": [
      "<bos><start_of_turn>user\n",
      "Hello, Tell me what you think of madrid?<end_of_turn>\n",
      "<start_of_turn>model\n",
      "As an AI, I do not have personal opinions or beliefs, but I can provide you with some information about Madrid.\n",
      "\n",
      "**Positive aspects:**\n",
      "\n",
      "* **Rich history and culture:** Madrid has a long and fascinating history, and it's known\n",
      "<bos><start_of_turn>user\n",
      "Hello, Tell me what you think of madrid?<end_of_turn>\n",
      "<start_of_turn>model\n",
      "I am unable to provide a subjective opinion about Madrid, as I do not have the capacity to form personal preferences or opinions.<eos>\n"
     ]
    }
   ],
   "source": [
    "\n",
    "hook_layers = [f'model.layers.{l}.mlp' for l in range(len(model.model.layers))]\n",
    "modules = []\n",
    "with TraceDict(model, layers=hook_layers, retain_input=True, retain_output=True) as rep:\n",
    "\n",
    "    for i in range(len( model.model.layers)):\n",
    "            module = model.model.layers[i]\n",
    "            inputs = tokenizer('bad', return_tensors=\"pt\").to(device)\n",
    "            with Trace(module) as cache:\n",
    "                _ = model(**inputs)\n",
    "                act_happy = cache.output[0]\n",
    "            act_happy = act_happy.detach().cpu().numpy()\n",
    "            modules.append(act_happy[:,-1:,:])\n",
    "\n",
    "\n",
    "modules = np.array(modules)\n",
    "\n",
    "chat = [\n",
    "    { \"role\": \"user\", \"content\": \"Hello, Tell me what you think of madrid?\" },\n",
    "]\n",
    "prompt = tokenizer.apply_chat_template(chat, tokenize=False, add_generation_prompt=True)\n",
    "inputs = tokenizer.encode(prompt, add_special_tokens=False, return_tensors=\"pt\")\n",
    "coeff = 0.8\n",
    "for i in range(2):\n",
    "    steering_vecF = torch.tensor(modules[i]).to('cuda:1')\n",
    "    module = model.model.layers[i]\n",
    "    with Trace(module, edit_output=act_add(coeff*steering_vecF,top_neurons_to_affect)) as _:\n",
    "        outputs = model.generate(input_ids=inputs.to('cuda:1'), max_new_tokens=50)\n",
    "        print(tokenizer.decode(outputs[0]))\n",
    "\n",
    "        \n"
   ]
  },
  {
   "cell_type": "code",
   "execution_count": null,
   "metadata": {},
   "outputs": [],
   "source": []
  }
 ],
 "metadata": {
  "kernelspec": {
   "display_name": "keras-jax",
   "language": "python",
   "name": "python3"
  },
  "language_info": {
   "codemirror_mode": {
    "name": "ipython",
    "version": 3
   },
   "file_extension": ".py",
   "mimetype": "text/x-python",
   "name": "python",
   "nbconvert_exporter": "python",
   "pygments_lexer": "ipython3",
   "version": "3.10.14"
  }
 },
 "nbformat": 4,
 "nbformat_minor": 2
}
